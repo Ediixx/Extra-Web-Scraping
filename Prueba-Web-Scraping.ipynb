{
 "cells": [
  {
   "cell_type": "markdown",
   "metadata": {},
   "source": [
    "#### EXTRA WEB SCRAPING\n",
    "#### Nombre: Edison Quizhpe\n",
    "#### Fecha: 05/01/2025"
   ]
  },
  {
   "cell_type": "markdown",
   "metadata": {},
   "source": [
    "##### Realizar una prueba en Python para dos librerías diferentes."
   ]
  },
  {
   "cell_type": "markdown",
   "metadata": {},
   "source": [
    "##### 1.\tPrueba con BeatifulSoup."
   ]
  },
  {
   "cell_type": "code",
   "execution_count": 22,
   "metadata": {},
   "outputs": [
    {
     "name": "stdout",
     "output_type": "stream",
     "text": [
      "Resultados con libreria BeautifulSoup:\n",
      "Tiempo Ejecución: 0.788831 segundos\n",
      "A Light in the Attic - Â£51.77 - Three rating\n",
      "Tipping the Velvet - Â£53.74 - One rating\n",
      "Soumission - Â£50.10 - One rating\n",
      "Sharp Objects - Â£47.82 - Four rating\n",
      "Sapiens: A Brief History of Humankind - Â£54.23 - Five rating\n"
     ]
    }
   ],
   "source": [
    "import requests\n",
    "from bs4 import BeautifulSoup\n",
    "import time\n",
    "\n",
    "def scrape_books(url):\n",
    "    start_time = time.time()\n",
    "    response = requests.get(url)\n",
    "\n",
    "    # Verificar si la solicitud fue exitosa\n",
    "    if response.status_code != 200:\n",
    "        print(f\"Error: No se pudo acceder a la página. Código de estado: {response.status_code}\")\n",
    "        return\n",
    "\n",
    "    soup = BeautifulSoup(response.text, \"html.parser\")\n",
    "\n",
    "    # Extraer títulos, precios y calificaciones de los libros\n",
    "    books = []\n",
    "    for book in soup.find_all(\"article\", class_=\"product_pod\"):\n",
    "        title = book.h3.a[\"title\"]  # Título del libro\n",
    "        price = book.find(\"p\", class_=\"price_color\").text.strip()  # Precio\n",
    "        rating = book.find(\"p\", class_=\"star-rating\")[\"class\"][1]  # Calificación\n",
    "        books.append({\"title\": title, \"price\": price, \"rating\": rating})\n",
    "\n",
    "    elapsed_time = time.time() - start_time\n",
    "    return {\n",
    "        \"library\": \"BeautifulSoup\",\n",
    "        \"books\": books,\n",
    "        \"elapsed_time\": elapsed_time,\n",
    "    }\n",
    "\n",
    "if __name__ == \"__main__\":\n",
    "    url = \"http://books.toscrape.com/\"\n",
    "    result_bs = scrape_books(url)\n",
    "\n",
    "    if result_bs:\n",
    "        print(f\"Resultados con libreria BeautifulSoup:\")\n",
    "        print(f\"Tiempo Ejecución: {result_bs['elapsed_time']:.6f} segundos\")\n",
    "        if result_bs[\"books\"]:\n",
    "            for book in result_bs[\"books\"][:5]:  # Mostrar los primeros 5 libros\n",
    "                print(f\"{book['title']} - {book['price']} - {book['rating']} rating\")\n",
    "        else:\n",
    "            print(\"No se encontraron libros. Verifica los selectores CSS o la estructura de la página.\")\n"
   ]
  },
  {
   "cell_type": "markdown",
   "metadata": {},
   "source": [
    "##### 2.\tPrueba con Selenium."
   ]
  },
  {
   "cell_type": "code",
   "execution_count": 25,
   "metadata": {},
   "outputs": [
    {
     "name": "stdout",
     "output_type": "stream",
     "text": [
      "Resultados con libreria Selenium:\n",
      "Propiedades encontradas:\n",
      "- Apartamento en Puerto Ayora\n",
      "- Cabaña en Montañita\n",
      "- Alojamiento en Pedro Vicente Maldonado\n",
      "- Alojamiento en Puerto Cayo\n",
      "- Apartamento en Puerto Baquerizo Moreno\n",
      "- Alojamiento en Baños de Agua Santa\n",
      "- Apartamento en Atacames\n",
      "- Condo en Playas\n",
      "- Villa en General Villamil\n",
      "- Condo en Santa Elena\n"
     ]
    }
   ],
   "source": [
    "from selenium import webdriver\n",
    "from selenium.webdriver.common.by import By\n",
    "from selenium.webdriver.chrome.service import Service\n",
    "from webdriver_manager.chrome import ChromeDriverManager\n",
    "import time\n",
    "\n",
    "def scrape_airbnb(url):\n",
    "    # Iniciar el navegador con WebDriverManager para manejar ChromeDriver automáticamente\n",
    "    service = Service(ChromeDriverManager().install())\n",
    "    driver = webdriver.Chrome(service=service)\n",
    "    driver.get(url)\n",
    "    \n",
    "    time.sleep(3)  # Esperar a que la página se cargue completamente\n",
    "\n",
    "    # Desplazar la página para cargar más propiedades (si es necesario)\n",
    "    driver.execute_script(\"window.scrollTo(0, document.documentElement.scrollHeight);\")\n",
    "    time.sleep(3)  # Esperar que se carguen más resultados\n",
    "\n",
    "    # Extraer los títulos de las propiedades (usando un selector adecuado)\n",
    "    property_titles = []\n",
    "    \n",
    "    # Aquí utilizamos un selector basado en el nombre de las propiedades\n",
    "    properties = driver.find_elements(By.CSS_SELECTOR, '.t1jojoys')  # Ajustar selector según la página\n",
    "\n",
    "    for property in properties:\n",
    "        title = property.text.strip()\n",
    "        if title:  # Asegurarse de que el título no esté vacío\n",
    "            property_titles.append(title)\n",
    "    \n",
    "    driver.quit()  # Cerrar el navegador\n",
    "    return property_titles\n",
    "\n",
    "if __name__ == \"__main__\":\n",
    "    url = \"https://www.airbnb.com/s/Ecuador\"  # Ejemplo: página de búsqueda en Ecuador\n",
    "    property_titles = scrape_airbnb(url)\n",
    "\n",
    "    if property_titles:\n",
    "        print(f\"Resultados con libreria Selenium:\")\n",
    "        print(f\"Propiedades encontradas:\")\n",
    "        for title in property_titles[:10]:  # Mostrar los primeros 10 títulos\n",
    "            print(f\"- {title}\")\n",
    "    else:\n",
    "        print(\"No se encontraron propiedades. Verifica los selectores CSS o la estructura de la página.\")\n"
   ]
  },
  {
   "cell_type": "markdown",
   "metadata": {},
   "source": [
    "##### Realizar scraping de un sitio web de su elección.\n",
    "##### Utilizando la libreria Selenium voy a realizar la implementación en Ebay."
   ]
  },
  {
   "cell_type": "code",
   "execution_count": 29,
   "metadata": {},
   "outputs": [
    {
     "name": "stdout",
     "output_type": "stream",
     "text": [
      "Resultados con Selenium:\n",
      "Productos encontrados:\n",
      "- 0\n",
      "Agregar\n",
      "$199,00\n",
      "$239,00\n",
      "Marca HONOR\n",
      "CELULAR X7C 8GB/256GB HONOR NEGRO\n",
      "- 0\n",
      "Agregar\n",
      "$199,00\n",
      "$239,00\n",
      "Marca HONOR\n",
      "CELULAR X7C 8GB/256GB HONOR VERDE\n",
      "- 0\n",
      "Agregar\n",
      "$319,00\n",
      "$349,00\n",
      "Marca MOTOROLA\n",
      "CELULAR MOTO EDGE 50 FUSION 8GB/256GB MOTOROLA AZUL\n",
      "- 0\n",
      "Agregar\n",
      "$319,00\n",
      "$349,00\n",
      "Marca MOTOROLA\n",
      "CELULAR MOTO EDGE 50 FUSION 8GB/256GB MOTOROLA MAGENTA\n",
      "- 0\n",
      "Agregar\n",
      "$859,00\n",
      "Marca SONY\n",
      "PLAYSTATION 5 SLIM VERSION DISCO BUNDLE FORNITE SONY\n",
      "- 0\n",
      "Agregar\n",
      "$759,00\n",
      "Marca SONY\n",
      "PLAYSTATION 5 SLIM DIGITAL EDICION BUNLDE FORNITE SONY\n",
      "- 0\n",
      "Agregar\n",
      "$979,00\n",
      "Marca MICROSOFT\n",
      "CONSOLA XBOX SERIES X 16GB/1TB SSD MICROSOFT GRATIS CONTROL\n",
      "- 0\n",
      "Agregar\n",
      "$649,00\n",
      "Marca NINTENDO\n",
      "CONSOLA VERSION OLED 4GB/64GB NINTENDO SWITCH\n"
     ]
    }
   ],
   "source": [
    "from selenium import webdriver\n",
    "from selenium.webdriver.common.by import By\n",
    "from selenium.webdriver.chrome.service import Service\n",
    "from webdriver_manager.chrome import ChromeDriverManager\n",
    "import time\n",
    "\n",
    "def scrape_tia(url):\n",
    "    # Iniciar el navegador con WebDriverManager para manejar ChromeDriver automáticamente\n",
    "    service = Service(ChromeDriverManager().install())\n",
    "    driver = webdriver.Chrome(service=service)\n",
    "    driver.get(url)\n",
    "    \n",
    "    time.sleep(3)  # Esperar a que la página se cargue completamente\n",
    "\n",
    "    # Desplazar la página para cargar más productos si es necesario\n",
    "    driver.execute_script(\"window.scrollTo(0, document.documentElement.scrollHeight);\")\n",
    "    time.sleep(3)  # Esperar que se carguen más resultados\n",
    "\n",
    "    # Extraer los productos o elementos de la página (ajustar el selector CSS si es necesario)\n",
    "    products = []\n",
    "    \n",
    "    # Aquí seleccionamos los elementos que contienen los productos (ajustar selector según la página)\n",
    "    items = driver.find_elements(By.CSS_SELECTOR, '.product-item')  # Cambiar selector según la estructura\n",
    "\n",
    "    for item in items:\n",
    "        product_name = item.text.strip()\n",
    "        if product_name:  # Asegurarse de que el nombre no esté vacío\n",
    "            products.append(product_name)\n",
    "    \n",
    "    driver.quit()  # Cerrar el navegador\n",
    "    return products\n",
    "\n",
    "if __name__ == \"__main__\":\n",
    "    url = \"https://www.tia.com.ec\"  # Página principal de Tía\n",
    "    products = scrape_tia(url)\n",
    "\n",
    "    if products:\n",
    "        print(f\"Resultados con Selenium:\")\n",
    "        print(f\"Productos encontrados:\")\n",
    "        for product in products[:10]:  # Mostrar los primeros 10 productos\n",
    "            print(f\"- {product}\")\n",
    "    else:\n",
    "        print(\"No se encontraron productos. Verifica los selectores CSS o la estructura de la página.\")\n"
   ]
  }
 ],
 "metadata": {
  "kernelspec": {
   "display_name": "Python 3",
   "language": "python",
   "name": "python3"
  },
  "language_info": {
   "codemirror_mode": {
    "name": "ipython",
    "version": 3
   },
   "file_extension": ".py",
   "mimetype": "text/x-python",
   "name": "python",
   "nbconvert_exporter": "python",
   "pygments_lexer": "ipython3",
   "version": "3.11.0"
  }
 },
 "nbformat": 4,
 "nbformat_minor": 2
}
